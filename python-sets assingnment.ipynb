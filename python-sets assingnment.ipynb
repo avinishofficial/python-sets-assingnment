{
 "cells": [
  {
   "cell_type": "code",
   "execution_count": 1,
   "id": "bb2e2863-d406-4591-82e8-9f10963649a6",
   "metadata": {},
   "outputs": [
    {
     "name": "stdout",
     "output_type": "stream",
     "text": [
      "Original set: {1, 2, 3, 4, 5}\n",
      "Set after adding 6: {1, 2, 3, 4, 5, 6}\n",
      "Set after removing 4: {1, 2, 3, 5, 6}\n",
      "Is 3 in the set? True\n",
      "Length of the set: 5\n",
      "Set from list: {1, 2, 3, 4, 5}\n",
      "Union of two sets: {1, 2, 3, 4, 5}\n",
      "Intersection of two sets: {3}\n",
      "Difference of two sets: {1, 2}\n"
     ]
    }
   ],
   "source": [
    "# Create a set\n",
    "my_set = {1, 2, 3, 4, 5}\n",
    "print(\"Original set:\", my_set)\n",
    "\n",
    "# Add an element to the set\n",
    "my_set.add(6)\n",
    "print(\"Set after adding 6:\", my_set)\n",
    "\n",
    "# Remove an element from the set\n",
    "my_set.remove(4)\n",
    "print(\"Set after removing 4:\", my_set)\n",
    "\n",
    "# Check if an element is in the set\n",
    "print(\"Is 3 in the set?\", 3 in my_set)\n",
    "\n",
    "# Get the length of the set\n",
    "print(\"Length of the set:\", len(my_set))\n",
    "\n",
    "# Create a set from a list\n",
    "my_list = [1, 2, 2, 3, 4, 4, 5]\n",
    "my_set_from_list = set(my_list)\n",
    "print(\"Set from list:\", my_set_from_list)\n",
    "\n",
    "# Union of two sets\n",
    "set1 = {1, 2, 3}\n",
    "set2 = {3, 4, 5}\n",
    "union_set = set1.union(set2)\n",
    "print(\"Union of two sets:\", union_set)\n",
    "\n",
    "# Intersection of two sets\n",
    "intersection_set = set1.intersection(set2)\n",
    "print(\"Intersection of two sets:\", intersection_set)\n",
    "\n",
    "# Difference of two sets\n",
    "difference_set = set1.difference(set2)\n",
    "print(\"Difference of two sets:\", difference_set)"
   ]
  },
  {
   "cell_type": "code",
   "execution_count": 2,
   "id": "2ef91723-ee7f-49f6-beba-d45be4bc17fe",
   "metadata": {},
   "outputs": [
    {
     "name": "stdout",
     "output_type": "stream",
     "text": [
      "Empty set: set()\n",
      "Set with elements: {1, 2, 3, 4, 5}\n",
      "Set from list: {1, 2, 3, 4, 5}\n",
      "Set from string: {'e', 'o', 'h', 'l'}\n",
      "Set from tuple: {1, 2, 3, 4, 5}\n",
      "Set from generator expression: {0, 1, 4, 9, 16}\n"
     ]
    }
   ],
   "source": [
    "# Method 1: Using the set() function\n",
    "my_set = set()\n",
    "print(\"Empty set:\", my_set)\n",
    "\n",
    "# Method 2: Using the {} syntax\n",
    "my_set = {1, 2, 3, 4, 5}\n",
    "print(\"Set with elements:\", my_set)\n",
    "\n",
    "# Method 3: Creating a set from a list\n",
    "my_list = [1, 2, 2, 3, 4, 4, 5]\n",
    "my_set_from_list = set(my_list)\n",
    "print(\"Set from list:\", my_set_from_list)\n",
    "\n",
    "# Method 4: Creating a set from a string\n",
    "my_string = \"hello\"\n",
    "my_set_from_string = set(my_string)\n",
    "print(\"Set from string:\", my_set_from_string)\n",
    "\n",
    "# Method 5: Creating a set from a tuple\n",
    "my_tuple = (1, 2, 2, 3, 4, 4, 5)\n",
    "my_set_from_tuple = set(my_tuple)\n",
    "print(\"Set from tuple:\", my_set_from_tuple)\n",
    "\n",
    "# Method 6: Creating a set using a generator expression\n",
    "my_set_from_gen = {x**2 for x in range(5)}\n",
    "print(\"Set from generator expression:\", my_set_from_gen)"
   ]
  },
  {
   "cell_type": "code",
   "execution_count": 3,
   "id": "2d2060da-6610-4209-9de7-399be444be81",
   "metadata": {},
   "outputs": [
    {
     "name": "stdout",
     "output_type": "stream",
     "text": [
      "Set after adding elements: {1, 2, 3}\n",
      "Set after updating with a list: {1, 2, 3, 4, 5, 6}\n",
      "Set after updating with a tuple: {1, 2, 3, 4, 5, 6, 7, 8, 9}\n",
      "Set after updating with another set: {1, 2, 3, 4, 5, 6, 7, 8, 9, 10, 11, 12}\n",
      "Set after using |= operator: {1, 2, 3, 4, 5, 6, 7, 8, 9, 10, 11, 12, 13, 14, 15}\n"
     ]
    }
   ],
   "source": [
    "# Create an empty set\n",
    "my_set = set()\n",
    "\n",
    "# Method 1: Using the add() method\n",
    "my_set.add(1)\n",
    "my_set.add(2)\n",
    "my_set.add(3)\n",
    "print(\"Set after adding elements:\", my_set)\n",
    "\n",
    "# Method 2: Using the update() method with a list\n",
    "my_list = [4, 5, 6]\n",
    "my_set.update(my_list)\n",
    "print(\"Set after updating with a list:\", my_set)\n",
    "\n",
    "# Method 3: Using the update() method with a tuple\n",
    "my_tuple = (7, 8, 9)\n",
    "my_set.update(my_tuple)\n",
    "print(\"Set after updating with a tuple:\", my_set)\n",
    "\n",
    "# Method 4: Using the update() method with another set\n",
    "another_set = {10, 11, 12}\n",
    "my_set.update(another_set)\n",
    "print(\"Set after updating with another set:\", my_set)\n",
    "\n",
    "# Method 5: Using the |= operator (union assignment)\n",
    "my_set |= {13, 14, 15}\n",
    "print(\"Set after using |= operator:\", my_set)"
   ]
  },
  {
   "cell_type": "code",
   "execution_count": 4,
   "id": "238ab1f8-5fc5-4475-9785-92e6aa87c597",
   "metadata": {},
   "outputs": [
    {
     "name": "stdout",
     "output_type": "stream",
     "text": [
      "Set after removing 5: {1, 2, 3, 4, 6, 7, 8, 9, 10}\n",
      "Set after discarding 7: {1, 2, 3, 4, 6, 8, 9, 10}\n",
      "Popped element: 1\n",
      "Set after popping: {2, 3, 4, 6, 8, 9, 10}\n",
      "Set after using -= operator: {3, 8, 9, 10}\n",
      "Set after using difference_update() method: {3, 9}\n",
      "Set after clearing: set()\n"
     ]
    }
   ],
   "source": [
    "# Create a set\n",
    "my_set = {1, 2, 3, 4, 5, 6, 7, 8, 9, 10}\n",
    "\n",
    "# Method 1: Using the remove() method\n",
    "my_set.remove(5)\n",
    "print(\"Set after removing 5:\", my_set)\n",
    "\n",
    "# Method 2: Using the discard() method\n",
    "my_set.discard(7)\n",
    "print(\"Set after discarding 7:\", my_set)\n",
    "\n",
    "# Method 3: Using the pop() method\n",
    "popped_element = my_set.pop()\n",
    "print(\"Popped element:\", popped_element)\n",
    "print(\"Set after popping:\", my_set)\n",
    "\n",
    "# Method 4: Using the -= operator (difference assignment)\n",
    "my_set -= {2, 4, 6}\n",
    "print(\"Set after using -= operator:\", my_set)\n",
    "\n",
    "# Method 5: Using the difference_update() method\n",
    "my_set.difference_update({8, 10})\n",
    "print(\"Set after using difference_update() method:\", my_set)\n",
    "\n",
    "# Method 6: Using the clear() method\n",
    "my_set.clear()\n",
    "print(\"Set after clearing:\", my_set)"
   ]
  },
  {
   "cell_type": "code",
   "execution_count": 6,
   "id": "79584d2f-5588-45b5-99cd-857a39ee838f",
   "metadata": {},
   "outputs": [
    {
     "name": "stdout",
     "output_type": "stream",
     "text": [
      "Length of the set: 10\n"
     ]
    }
   ],
   "source": [
    "# Create a set\n",
    "my_set = {1, 2, 3, 4, 5, 6, 7, 8, 9, 10}\n",
    "\n",
    "# Get the length of the set using the len() function\n",
    "set_length = len(my_set)\n",
    "\n",
    "print(\"Length of the set:\", set_length)\n",
    "\n",
    "\n",
    "\n",
    "\n",
    "\n",
    "\n"
   ]
  },
  {
   "cell_type": "code",
   "execution_count": null,
   "id": "6e47428e-0d02-4190-af15-8386f721f3d5",
   "metadata": {},
   "outputs": [],
   "source": []
  }
 ],
 "metadata": {
  "kernelspec": {
   "display_name": "Python 3 (ipykernel)",
   "language": "python",
   "name": "python3"
  },
  "language_info": {
   "codemirror_mode": {
    "name": "ipython",
    "version": 3
   },
   "file_extension": ".py",
   "mimetype": "text/x-python",
   "name": "python",
   "nbconvert_exporter": "python",
   "pygments_lexer": "ipython3",
   "version": "3.10.8"
  }
 },
 "nbformat": 4,
 "nbformat_minor": 5
}
